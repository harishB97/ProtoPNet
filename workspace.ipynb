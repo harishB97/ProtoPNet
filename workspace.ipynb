{
 "cells": [
  {
   "cell_type": "code",
   "execution_count": 1,
   "metadata": {},
   "outputs": [],
   "source": [
    "import torch\n",
    "import torch.utils.data\n",
    "import torchvision.transforms as transforms\n",
    "import torchvision.datasets as datasets\n",
    "from torch.autograd import Variable\n",
    "import numpy as np\n",
    "import pandas as pd\n",
    "import matplotlib.pyplot as plt\n",
    "import cv2\n",
    "from PIL import Image\n",
    "import os\n",
    "import re\n",
    "from collections import defaultdict\n",
    "\n",
    "import phylogeny_fish as phylo"
   ]
  },
  {
   "cell_type": "markdown",
   "metadata": {},
   "source": [
    "Checking species ID of prototypes of ancestor models"
   ]
  },
  {
   "cell_type": "code",
   "execution_count": 3,
   "metadata": {},
   "outputs": [
    {
     "name": "stdout",
     "output_type": "stream",
     "text": [
      "[0] {0}\n",
      "[1, 2] {1}\n",
      "[3] {3}\n",
      "[4] {4}\n",
      "[5, 6] {5, 6}\n",
      "[7, 8, 9, 10, 11, 12, 13, 14] {9, 13, 7}\n",
      "[15, 16] {16, 15}\n",
      "[17, 18, 19, 20, 21, 22, 23, 24, 25, 26, 27, 28, 29, 30, 31, 37] {37, 19, 20, 21, 27, 30}\n",
      "[32, 33, 34, 35, 36] {32, 33, 35}\n"
     ]
    }
   ],
   "source": [
    "model_level = 2\n",
    "\n",
    "descendants = None\n",
    "if (model_level == 0):\n",
    "    descendants = defaultdict(list)\n",
    "    for key, val in phylo.species_to_ances_level0.items():\n",
    "        descendants[val].append(key)\n",
    "elif (model_level == 1):\n",
    "    descendants = defaultdict(list)\n",
    "    for key, val in phylo.species_to_ances_level1.items():\n",
    "        descendants[val].append(key)\n",
    "elif (model_level == 2):\n",
    "    descendants = defaultdict(list)\n",
    "    for key, val in phylo.species_to_ances_level2.items():\n",
    "        descendants[val].append(key)\n",
    "\n",
    "# load_model_path = os.path.join(load_model_dir, load_model_name)\n",
    "# load_model_path = r'/home/harishbabu/projects/ProtoPNet/saved_models/vgg19/046-fish-pad1-lvl2-256-vgg19-25ppc-20ep/10_5push0.9977.pth'\n",
    "load_model_path = r'/home/harishbabu/projects/ProtoPNet/saved_models/vgg19/043-fish-pad1-lvl2-256-vgg19-10ppc-20ep/10_19push0.9977.pth'\n",
    "load_model_name = os.path.basename(load_model_path)\n",
    "load_img_dir = os.path.dirname(load_model_path)\n",
    "epoch_number_str = re.search(r'\\d+', load_model_name).group(0)\n",
    "prototype_info = np.load(os.path.join(load_img_dir, 'img', 'epoch-'+epoch_number_str, 'bb'+epoch_number_str+'.npy'))\n",
    "prototype_img_identity = prototype_info[:, 5]\n",
    "prototype_base_img_identity = None\n",
    "if prototype_info.shape[1] > 6:\n",
    "    prototype_base_img_identity = prototype_info[:, 6]\n",
    "\n",
    "descendants_used = defaultdict(set)\n",
    "for img_id, base_img_id in zip(prototype_img_identity, prototype_base_img_identity):\n",
    "    descendants_used[img_id].add(base_img_id)\n",
    "\n",
    "for img_id in descendants:\n",
    "    print(descendants[img_id], descendants_used[img_id])\n"
   ]
  },
  {
   "cell_type": "code",
   "execution_count": 5,
   "metadata": {},
   "outputs": [],
   "source": [
    "import pandas as pd\n",
    "import numpy as np\n",
    "import os\n",
    "import cv2\n",
    "from multiprocessing import Lock, Pool\n",
    "import time\n",
    "\n",
    "n_threads = 4\n",
    "IMG_DIR = r'/home/harishbabu/data/CUB_190_split/official/CUB_200_2011/train_bb_crop'\n",
    "SAVE_PATH = r'/home/harishbabu/data/CUB_190_split/official/CUB_200_2011/train_bb_crop_224'\n",
    "folders = [os.path.join(IMG_DIR, folder) for folder in next(os.walk(IMG_DIR))[1]]\n",
    "target_folders = [os.path.join(SAVE_PATH, folder) for folder in next(os.walk(IMG_DIR))[1]]"
   ]
  },
  {
   "cell_type": "code",
   "execution_count": 6,
   "metadata": {},
   "outputs": [
    {
     "name": "stdout",
     "output_type": "stream",
     "text": [
      "190\n",
      "49\n",
      "4\n",
      "190\n",
      "49\n",
      "4\n"
     ]
    }
   ],
   "source": [
    "def split_for_threads(folders):\n",
    "    print(len(folders))\n",
    "    n = len(folders) // n_threads\n",
    "    folders = [folders[i * n:(i + 1) * n] for i in range((len(folders) + n - 1) // n )]\n",
    "    while len(folders) > n_threads:\n",
    "        folders[-2] += folders[-1]\n",
    "        folders = folders[:-1]\n",
    "    print(len(folders[-1]))\n",
    "    print(len(folders))\n",
    "\n",
    "    return folders\n",
    "\n",
    "folders = split_for_threads(folders)\n",
    "target_folders = split_for_threads(target_folders)"
   ]
  },
  {
   "cell_type": "code",
   "execution_count": 7,
   "metadata": {},
   "outputs": [
    {
     "name": "stdout",
     "output_type": "stream",
     "text": [
      "1408\n",
      "1410\n",
      "1409\n",
      "1468\n"
     ]
    }
   ],
   "source": [
    "images_count = 0\n",
    "for folder in folders[0]:\n",
    "    images_count += len(os.listdir(folder))\n",
    "print(images_count)\n",
    "\n",
    "images_count = 0\n",
    "for folder in folders[1]:\n",
    "    images_count += len(os.listdir(folder))\n",
    "print(images_count)\n",
    "\n",
    "images_count = 0\n",
    "for folder in folders[2]:\n",
    "    images_count += len(os.listdir(folder))\n",
    "print(images_count)\n",
    "\n",
    "images_count = 0\n",
    "for folder in folders[3]:\n",
    "    images_count += len(os.listdir(folder))\n",
    "print(images_count)"
   ]
  },
  {
   "cell_type": "code",
   "execution_count": null,
   "metadata": {},
   "outputs": [],
   "source": []
  }
 ],
 "metadata": {
  "kernelspec": {
   "display_name": "taming3",
   "language": "python",
   "name": "python3"
  },
  "language_info": {
   "codemirror_mode": {
    "name": "ipython",
    "version": 3
   },
   "file_extension": ".py",
   "mimetype": "text/x-python",
   "name": "python",
   "nbconvert_exporter": "python",
   "pygments_lexer": "ipython3",
   "version": "3.8.5"
  },
  "orig_nbformat": 4,
  "vscode": {
   "interpreter": {
    "hash": "4de04e05afac88dddc21d8e2959a434f0ee922023dd00da3134d4a51f0c8927a"
   }
  }
 },
 "nbformat": 4,
 "nbformat_minor": 2
}
